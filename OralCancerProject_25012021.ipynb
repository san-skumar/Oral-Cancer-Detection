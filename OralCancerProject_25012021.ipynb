{
 "cells": [
  {
   "cell_type": "code",
   "execution_count": null,
   "metadata": {
    "colab": {
     "base_uri": "https://localhost:8080/"
    },
    "id": "XyFxoIxLVwVW",
    "outputId": "1502d808-b282-4124-d38f-b9e1b82a576e"
   },
   "outputs": [],
   "source": [
    "from google.colab import drive\n",
    "drive.mount('/content/drive')"
   ]
  },
  {
   "cell_type": "code",
   "execution_count": null,
   "metadata": {
    "id": "6Gm7KBGLVt-F"
   },
   "outputs": [],
   "source": [
    "#Importing the required libraries\n",
    "import pandas as pd\n",
    "import numpy as np\n",
    "import os\n",
    "import glob\n",
    "import matplotlib.pyplot as plt\n",
    "%matplotlib inline"
   ]
  },
  {
   "cell_type": "code",
   "execution_count": null,
   "metadata": {
    "id": "uOu4uzkZVt-L"
   },
   "outputs": [],
   "source": [
    "#Locating Data set and extracting into dataframe\n",
    "os.chdir('/content/drive/My Drive/Colab Notebooks/OralCancerProject')\n",
    "\n",
    "datapath = os.getcwd() + '/Data'\n",
    "\n",
    "TypeList = [ttype+exttype for ttype in [\"/Malignant*/\", \"/Premalignant*/\", \"/Normal*/\"] for exttype in [\"*PRN\"]]\n",
    "\n",
    "\n",
    "df = pd.DataFrame()\n",
    "\n",
    "for ftype in TypeList:\n",
    "  for file in glob.iglob(datapath + os.path.normpath(ftype)): \n",
    "    colname = os.path.splitext(os.path.basename(file))[0]\n",
    "    tempdf = pd.read_csv(file, delim_whitespace = True, usecols = [1], engine = 'python',\n",
    "                         skipfooter = 1, names = ('Wavelength', colname),\n",
    "                         dtype = {'Wavelength': np.float64, colname: np.float64})   \n",
    "    df = pd.concat([df, tempdf], axis = 1)\n",
    "  "
   ]
  },
  {
   "cell_type": "markdown",
   "metadata": {
    "id": "LFnt-egkFekP"
   },
   "source": []
  },
  {
   "cell_type": "code",
   "execution_count": null,
   "metadata": {
    "colab": {
     "base_uri": "https://localhost:8080/",
     "height": 408
    },
    "id": "Jp0Rrt5BRUVg",
    "outputId": "b324f396-7716-49a8-ada4-c168b8963da1"
   },
   "outputs": [],
   "source": [
    "#Assigning Labels to each group (malignant, pre-malignant or normal)\n",
    "df = df.T\n",
    "label_classes = [\"M\", \"P\", \"N\"]\n",
    "df['Label'] = df.index.str[0]\n",
    "df['Label'] = df['Label'].apply(label_classes.index)\n",
    "df.head(10)"
   ]
  },
  {
   "cell_type": "code",
   "execution_count": null,
   "metadata": {
    "id": "WKeX6v0NVt-R"
   },
   "outputs": [],
   "source": [
    "# distributing the dataset into malignant, premalignant, and normal \n",
    "sample_names = df.index.to_numpy()\n",
    "n_M = df[df.Label == 0 ].shape[0]\n",
    "n_PM = df[df.Label == 1].shape[0]\n",
    "n_N = df[df.Label == 2].shape[0]\n",
    "n = n_M + n_PM + n_N\n",
    "p = len(df.columns) - 1\n",
    "\n",
    "#input attributes\n",
    "X_M = df.loc[df.Label == 0 , df.columns != 'Label']\n",
    "X_M = np.column_stack((sample_names[df.Label == 0], X_M))\n",
    "X_PM =  df.loc[df.Label == 1 , df.columns != 'Label']\n",
    "X_PM = np.column_stack((sample_names[df.Label == 0], X_PM))\n",
    "X_N =  df.loc[df.Label == 2 , df.columns != 'Label']\n",
    "X_N = np.column_stack((sample_names[df.Label == 0], X_N))\n",
    "\n",
    "#output attributes \n",
    "y_M = df.loc[df['Label'] == 0, df.columns == 'Label' ].values         \n",
    "y_PM = df.loc[df['Label'] == 1,  df.columns == 'Label' ].values\n",
    "y_N = df.loc[df['Label'] == 2,  df.columns == 'Label' ].values\n",
    "\n",
    "#Instances \n",
    "X = np.concatenate((X_M, X_PM, X_N)) \n",
    "y = np.concatenate((y_M, y_PM, y_N)).flatten()"
   ]
  },
  {
   "cell_type": "code",
   "execution_count": null,
   "metadata": {
    "colab": {
     "base_uri": "https://localhost:8080/",
     "height": 295
    },
    "id": "YHMKK0ovmMsd",
    "outputId": "ba763ad4-01ac-4a3f-b8ac-c5601e17837f"
   },
   "outputs": [],
   "source": [
    "#Ploting all Malignant patient data \n",
    "for i in np.random.randint(len(X_M), size = 10):\n",
    "  x_m = X_M[i, 1:]\n",
    "  plt.plot(x_m)\n",
    "  plt.title('Malignant')\n",
    "  plt.xlabel('Wavelength (λ)')\n",
    "  plt.ylabel('Frequency')"
   ]
  },
  {
   "cell_type": "code",
   "execution_count": null,
   "metadata": {
    "id": "OaFl1wC8mWcd"
   },
   "outputs": [],
   "source": [
    "#Ploting all Pre-Malignant patient data \n",
    "for i in np.random.randint(len(X_PM), size = 10):\n",
    "  x_pm = X_PM[i, 1:]\n",
    "  plt.plot(x_pm)\n",
    "  plt.title('Pre-Malignant')\n",
    "  plt.xlabel('Wavelength (λ)')\n",
    "  plt.ylabel('Frequency')"
   ]
  },
  {
   "cell_type": "code",
   "execution_count": null,
   "metadata": {
    "id": "UnHdxPrUuLVs"
   },
   "outputs": [],
   "source": [
    "#Ploting all Normal patient data \n",
    "for i in np.random.randint(len(X_N), size = 10):\n",
    "  x_n = X_N[i, 1:]\n",
    "  plt.plot(x_n)\n",
    "  plt.title('Normal')\n",
    "  plt.xlabel('Wavelength (λ)')\n",
    "  plt.ylabel('Frequency')"
   ]
  },
  {
   "cell_type": "code",
   "execution_count": null,
   "metadata": {
    "colab": {
     "base_uri": "https://localhost:8080/",
     "height": 295
    },
    "id": "KKBstqCS9crW",
    "outputId": "7646b1d1-b95d-42bd-dd74-0e8c6d26364c"
   },
   "outputs": [],
   "source": [
    "#Ploting average patient graphs from each group \n",
    "avg_M = np.array([])\n",
    "avg_N = np.array([])\n",
    "avg_PM = np.array([])\n",
    "\n",
    "for i in range(1, len(X_M[0])):\n",
    "  avg_M = np.append(avg_M, np.mean(X_M[:, i]))\n",
    "  avg_PM = np.append(avg_PM, np.mean(X_PM[:, i]))\n",
    "  avg_N = np.append(avg_N, np.mean(X_N[:, i]))\n",
    "\n",
    "#print(avg_M)\n",
    "#print(avg_N)\n",
    "#print(avg_PM)\n",
    "plt.plot(avg_M, label = 'Malignant')\n",
    "plt.plot(avg_N, label = 'Normal')\n",
    "plt.plot(avg_PM, label = 'Pre-Malignant')\n",
    "\n",
    "plt.title('Average Patient record for Malignant, Pre-Malignant and Normal')\n",
    "plt.xlabel('Wavelength')\n",
    "plt.ylabel('Frequency')\n",
    "plt.legend()\n",
    "plt.show()"
   ]
  },
  {
   "cell_type": "code",
   "execution_count": null,
   "metadata": {
    "colab": {
     "base_uri": "https://localhost:8080/"
    },
    "id": "Am9-JYqgwwID",
    "outputId": "cf78c5ce-0256-4b2f-9602-51e4d496e662"
   },
   "outputs": [],
   "source": [
    "#Applying Principle Component Analysis (PCA)\n",
    "from sklearn.decomposition import PCA\n",
    "pca = PCA(n_components = 4) #bringing it down to 4 features \n",
    "X_pca = pca.fit_transform(X[:, 1:])\n",
    "print(\"original shape: \", X[:, 1:].shape)\n",
    "print(\"transformed shape:\", X_pca.shape)"
   ]
  },
  {
   "cell_type": "code",
   "execution_count": null,
   "metadata": {
    "id": "JlqN5m99OYp1"
   },
   "outputs": [],
   "source": [
    "#PCA = pd.DataFrame(np.absolute(X_pca))\n"
   ]
  },
  {
   "cell_type": "code",
   "execution_count": null,
   "metadata": {
    "id": "dQ1zxi7OPOsv"
   },
   "outputs": [],
   "source": [
    "#plt.scatter(X[y == 0, 1: ], X_pca[:, 0])"
   ]
  },
  {
   "cell_type": "markdown",
   "metadata": {
    "id": "4ccsxad3EeRi"
   },
   "source": [
    "the information along\n",
    "the least important principal axis or axes is removed, leaving only the component(s)\n",
    "of the data with the highest variance. "
   ]
  },
  {
   "cell_type": "code",
   "execution_count": null,
   "metadata": {
    "colab": {
     "base_uri": "https://localhost:8080/"
    },
    "id": "iVwyBnOEhJ5J",
    "outputId": "497a1ed8-6598-474e-8c0e-7cf8d6f5e21f"
   },
   "outputs": [],
   "source": [
    "pca.explained_variance_ratio_\n",
    "#% of varitaion explained in the first, second, third and fourth direction"
   ]
  },
  {
   "cell_type": "code",
   "execution_count": null,
   "metadata": {
    "colab": {
     "base_uri": "https://localhost:8080/",
     "height": 265
    },
    "id": "nXzOxJk6Dw1j",
    "outputId": "f3f57118-d752-49e8-8205-9ec81b982e0e"
   },
   "outputs": [],
   "source": [
    "#Visualization of the dimensional reduction: light color is the original data\n",
    "#orange is the reduced/ projected version\n",
    "X_new = pca.inverse_transform(X_pca)\n",
    "plt.scatter(X[:, 0], X[:, 1], alpha=0.2)\n",
    "plt.scatter(X_new[:, 0], X_new[:, 1], alpha=0.8)\n",
    "plt.axis('equal');"
   ]
  },
  {
   "cell_type": "markdown",
   "metadata": {
    "id": "0FHClIkuFDA3"
   },
   "source": [
    "these points are the projection of each data point along the directions with the\n",
    "largest variance"
   ]
  },
  {
   "cell_type": "code",
   "execution_count": null,
   "metadata": {
    "colab": {
     "base_uri": "https://localhost:8080/",
     "height": 279
    },
    "id": "YGa5NibnxQw1",
    "outputId": "309b684e-2e1f-4e25-9f92-df63d6017518"
   },
   "outputs": [],
   "source": [
    "#Plotting PCA between PCA1 and PCA3\n",
    "colors = ['r' ,'g' ,'b']\n",
    "names = ['Malignant', 'Pre-Malignant', 'Normal']\n",
    "labels = [ 0, 1, 2]\n",
    "plt.figure()\n",
    "\n",
    "for n, c in zip(labels, colors):\n",
    "  plt.scatter(X_pca[y == n, 0], X_pca[y == n,2], cmap = c)\n",
    "\n",
    "plt.xlabel('Principle Component 1')\n",
    "plt.ylabel('Principle Component 3')\n",
    "plt.legend(names)\n",
    "plt.show()"
   ]
  },
  {
   "cell_type": "code",
   "execution_count": null,
   "metadata": {
    "colab": {
     "base_uri": "https://localhost:8080/",
     "height": 279
    },
    "id": "w1Bd0DJ3wFxR",
    "outputId": "29f47826-9fe3-4605-d3e4-c22c8b878822"
   },
   "outputs": [],
   "source": [
    "#Plotting PCA \n",
    "colors = ['r' ,'g' ,'b']\n",
    "names = ['Malignant', 'Pre-Malignant', 'Normal']\n",
    "labels = [ 0, 1, 2]\n",
    "plt.figure()\n",
    "\n",
    "for n, c in zip(labels, colors):\n",
    "  plt.scatter(X_pca[y == n, 0], X_pca[y == n,1], cmap = c)\n",
    "\n",
    "plt.xlabel('Principle Component 1')\n",
    "plt.ylabel('Principle Component 3')\n",
    "plt.legend(names)\n",
    "plt.show()"
   ]
  },
  {
   "cell_type": "code",
   "execution_count": null,
   "metadata": {
    "colab": {
     "base_uri": "https://localhost:8080/",
     "height": 279
    },
    "id": "uMDICABjU5kR",
    "outputId": "e25bb630-9903-4f53-dc46-427bb70c1438"
   },
   "outputs": [],
   "source": [
    "#Plotting PCA \n",
    "colors = ['r' ,'g' ,'b']\n",
    "names = ['Malignant', 'Pre-Malignant', 'Normal']\n",
    "labels = [ 0, 1, 2]\n",
    "plt.figure()\n",
    "\n",
    "for n, c in zip(labels, colors):\n",
    "  plt.scatter(X_pca[y == n, 0], X_pca[y == n,3], cmap = c)\n",
    "\n",
    "plt.xlabel('Principle Component 1')\n",
    "plt.ylabel('Principle Component 3')\n",
    "plt.legend(names)\n",
    "plt.show()"
   ]
  },
  {
   "cell_type": "code",
   "execution_count": null,
   "metadata": {
    "colab": {
     "base_uri": "https://localhost:8080/",
     "height": 35
    },
    "id": "RthVkgdfU8VL",
    "outputId": "85848447-93dc-4054-e56e-00a50b372cd0"
   },
   "outputs": [],
   "source": [
    "'''\n",
    "for i in range(0, 3):\n",
    "  plt.scatter(X_M[:, 1: ], X_pca[y == i, 0])\n",
    "plt.legend(names)\n",
    "\n",
    "'''"
   ]
  },
  {
   "cell_type": "code",
   "execution_count": null,
   "metadata": {
    "id": "fOdJCKjhSenb"
   },
   "outputs": [],
   "source": []
  }
 ],
 "metadata": {
  "colab": {
   "collapsed_sections": [],
   "name": "OralCancerProject_25012021.ipynb",
   "provenance": []
  },
  "kernelspec": {
   "display_name": "Python 3",
   "language": "python",
   "name": "python3"
  },
  "language_info": {
   "codemirror_mode": {
    "name": "ipython",
    "version": 3
   },
   "file_extension": ".py",
   "mimetype": "text/x-python",
   "name": "python",
   "nbconvert_exporter": "python",
   "pygments_lexer": "ipython3",
   "version": "3.8.5"
  }
 },
 "nbformat": 4,
 "nbformat_minor": 1
}
